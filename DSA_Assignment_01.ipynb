{
 "cells": [
  {
   "cell_type": "markdown",
   "id": "40503af2-29a8-415c-b457-e49e871f4ba7",
   "metadata": {},
   "source": [
    "Assignment 01 PPT"
   ]
  },
  {
   "cell_type": "raw",
   "id": "350b47ba-cd49-4cbf-8f73-cecb7301ca08",
   "metadata": {},
   "source": []
  },
  {
   "cell_type": "markdown",
   "id": "e6f9503a-23e9-45c4-99e1-dcd6e3b871cc",
   "metadata": {},
   "source": [
    "Q1. "
   ]
  },
  {
   "cell_type": "code",
   "execution_count": 5,
   "id": "f0490a47-8d8d-49f8-b9f4-5ae8ab294c91",
   "metadata": {},
   "outputs": [
    {
     "name": "stdout",
     "output_type": "stream",
     "text": [
      "[0, 1]\n"
     ]
    }
   ],
   "source": [
    "\n",
    "    def twoSum(nums, target):\n",
    "        left = 0 \n",
    "        right =len(nums) - 1\n",
    "        while left < right:\n",
    "            total = nums[left] + nums[right]\n",
    "            if total == target:\n",
    "                return [left, right]\n",
    "            elif total < target:\n",
    "                left += 1\n",
    "            else:\n",
    "                right -= 1\n",
    "        return []  \n",
    "\n",
    "\n",
    "nums = [2, 7, 11, 15]\n",
    "target = 9\n",
    "result = twoSum(nums, target)\n",
    "print(result)  \n"
   ]
  },
  {
   "cell_type": "raw",
   "id": "408dfccc-ba10-4580-beb6-35d945eeddfb",
   "metadata": {},
   "source": []
  },
  {
   "cell_type": "markdown",
   "id": "4a5e2edf-f27e-4a0a-9835-302bb4680283",
   "metadata": {},
   "source": [
    "Q2"
   ]
  },
  {
   "cell_type": "code",
   "execution_count": 9,
   "id": "38030bbf-a14f-412d-be69-f58e7635e461",
   "metadata": {},
   "outputs": [
    {
     "name": "stdout",
     "output_type": "stream",
     "text": [
      "Output: 2\n",
      "nums = [2, 2]_ _ \n"
     ]
    }
   ],
   "source": [
    "def removeElement(nums, val):\n",
    "    i = 0\n",
    "    for j in range(len(nums)):\n",
    "        if nums[j] != val:\n",
    "            nums[i] = nums[j]\n",
    "            i += 1\n",
    "    return i\n",
    "\n",
    "# Test the function\n",
    "nums = [3, 2, 2, 3]\n",
    "val = 3\n",
    "result = removeElement(nums, val)\n",
    "\n",
    "print(\"Output:\", result)\n",
    "print(\"nums =\", nums[:result], end=\"\")\n",
    "print(\"_ \" * (len(nums) - result))\n"
   ]
  },
  {
   "cell_type": "raw",
   "id": "094e0ba1-3a05-4f59-8786-2f85799b313b",
   "metadata": {},
   "source": []
  },
  {
   "cell_type": "markdown",
   "id": "bb9dbe85-aa9d-41aa-b317-61464979d18d",
   "metadata": {},
   "source": [
    "Q3"
   ]
  },
  {
   "cell_type": "code",
   "execution_count": 10,
   "id": "9d8979db-e583-4b93-a832-31728f88b8e6",
   "metadata": {},
   "outputs": [
    {
     "name": "stdout",
     "output_type": "stream",
     "text": [
      "Output: 2\n"
     ]
    }
   ],
   "source": [
    "def searchInsert(nums, target):\n",
    "    left = 0\n",
    "    right = len(nums) - 1\n",
    "\n",
    "    while left <= right:\n",
    "        mid = left + (right - left) // 2\n",
    "\n",
    "        if nums[mid] == target:\n",
    "            return mid\n",
    "        elif nums[mid] < target:\n",
    "            left = mid + 1\n",
    "        else:\n",
    "            right = mid - 1\n",
    "\n",
    "    return left\n",
    "\n",
    "# Test the function\n",
    "nums = [1, 3, 5, 6]\n",
    "target = 5\n",
    "result = searchInsert(nums, target)\n",
    "\n",
    "print(\"Output:\", result)\n"
   ]
  },
  {
   "cell_type": "raw",
   "id": "5ff58bfb-52f1-4705-b413-9fbda41ad83b",
   "metadata": {},
   "source": []
  },
  {
   "cell_type": "markdown",
   "id": "83c1f5ca-458c-4304-9735-ac825fd5cee2",
   "metadata": {},
   "source": [
    "Q4"
   ]
  },
  {
   "cell_type": "code",
   "execution_count": 14,
   "id": "83b12f02-e829-4109-ac37-099366defaa4",
   "metadata": {},
   "outputs": [
    {
     "name": "stdout",
     "output_type": "stream",
     "text": [
      "Output: [1, 2, 4]\n"
     ]
    }
   ],
   "source": [
    "def plusOne( digits):\n",
    "        n = len(digits)\n",
    "\n",
    "        for i in range(n - 1, -1, -1):\n",
    "            digits[i] += 1\n",
    "\n",
    "            if digits[i] < 10:\n",
    "                return digits\n",
    "\n",
    "            digits[i] = 0\n",
    "\n",
    "        return [1] + digits\n",
    "\n",
    "# Test the function\n",
    "digits = [1, 2, 3]\n",
    "result = plusOne(digits)\n",
    "\n",
    "print(\"Output:\", result)\n"
   ]
  },
  {
   "cell_type": "raw",
   "id": "10e351d1-c1ff-4c38-b284-42481068e245",
   "metadata": {},
   "source": []
  },
  {
   "cell_type": "markdown",
   "id": "53cbdb89-666d-4d51-adbb-b0195f7877c5",
   "metadata": {},
   "source": [
    "Q5"
   ]
  },
  {
   "cell_type": "code",
   "execution_count": 2,
   "id": "5d71a353-b512-47d3-a013-047b8de4b181",
   "metadata": {},
   "outputs": [
    {
     "name": "stdout",
     "output_type": "stream",
     "text": [
      "Output: [1, 2, 4]\n"
     ]
    }
   ],
   "source": [
    "def addOne(digits):\n",
    "    n = len(digits)\n",
    "    for i in range(n - 1, -1, -1):\n",
    "        if digits[i] < 9:\n",
    "            digits[i] += 1\n",
    "            return digits\n",
    "        digits[i] = 0\n",
    "\n",
    "    # If all digits are 9, add an additional digit\n",
    "    return [1] + [0] * n\n",
    "\n",
    "# Test the function\n",
    "digits = [1, 2, 3]\n",
    "result = addOne(digits)\n",
    "\n",
    "print(\"Output:\", result)\n"
   ]
  },
  {
   "cell_type": "raw",
   "id": "90587cf1-b35b-423b-a926-16ec09867e0f",
   "metadata": {},
   "source": []
  },
  {
   "cell_type": "markdown",
   "id": "eb19520a-8e3a-4664-a1f6-df470213e090",
   "metadata": {},
   "source": [
    "Q5"
   ]
  },
  {
   "cell_type": "code",
   "execution_count": 3,
   "id": "e28a7942-b1b5-4242-935f-5e514a958123",
   "metadata": {},
   "outputs": [
    {
     "name": "stdout",
     "output_type": "stream",
     "text": [
      "Output: [1, 2, 2, 3, 5, 6]\n"
     ]
    }
   ],
   "source": [
    "def merge(nums1, m, nums2, n):\n",
    "  \n",
    "    i = m - 1\n",
    "    j = n - 1\n",
    "    k = m + n - 1\n",
    "\n",
    "    while i >= 0 and j >= 0:\n",
    "        if nums1[i] > nums2[j]:\n",
    "            nums1[k] = nums1[i]\n",
    "            i -= 1\n",
    "        else:\n",
    "            nums1[k] = nums2[j]\n",
    "            j -= 1\n",
    "        k -= 1\n",
    "\n",
    "\n",
    "    while j >= 0:\n",
    "        nums1[k] = nums2[j]\n",
    "        j -= 1\n",
    "        k -= 1\n",
    "\n",
    "\n",
    "nums1 = [1, 2, 3, 0, 0, 0]\n",
    "m = 3\n",
    "nums2 = [2, 5, 6]\n",
    "n = 3\n",
    "\n",
    "merge(nums1, m, nums2, n)\n",
    "\n",
    "print(\"Output:\", nums1)\n"
   ]
  },
  {
   "cell_type": "raw",
   "id": "e95043c5-48c7-4403-b7d5-3b023844f979",
   "metadata": {},
   "source": []
  },
  {
   "cell_type": "markdown",
   "id": "066ef229-1652-44f9-959c-b1cace988b30",
   "metadata": {},
   "source": [
    "Q6"
   ]
  },
  {
   "cell_type": "code",
   "execution_count": 6,
   "id": "c2509d5e-44ef-44aa-8776-36581ebef2ca",
   "metadata": {},
   "outputs": [
    {
     "name": "stdout",
     "output_type": "stream",
     "text": [
      "Output: True\n"
     ]
    }
   ],
   "source": [
    "\n",
    "    def valueDuplicate( nums):\n",
    "        num_set = set()\n",
    "\n",
    "        for num in nums:\n",
    "            if num in num_set:\n",
    "                return True\n",
    "            num_set.add(num)\n",
    "\n",
    "        return False\n",
    "\n",
    "nums = [1, 2, 3, 1]\n",
    "\n",
    "\n",
    "result = valueDuplicate(nums)\n",
    "print(\"Output:\", result)\n"
   ]
  },
  {
   "cell_type": "raw",
   "id": "6bc73e86-c862-4c4a-8c5e-864666cd1805",
   "metadata": {},
   "source": []
  },
  {
   "cell_type": "markdown",
   "id": "f2dee057-9f20-4c1d-81bd-57dad41bfd92",
   "metadata": {},
   "source": [
    "Q7"
   ]
  },
  {
   "cell_type": "code",
   "execution_count": 12,
   "id": "bab4d715-300f-4263-b967-30649e24b35d",
   "metadata": {},
   "outputs": [
    {
     "name": "stdout",
     "output_type": "stream",
     "text": [
      "Output: [1, 3, 12, 0, 0]\n"
     ]
    }
   ],
   "source": [
    "def zeroes( nums):\n",
    "        i = 0\n",
    "\n",
    "        for j in range(len(nums)):\n",
    "            if nums[j] != 0:\n",
    "                nums[i] = nums[j]\n",
    "                i += 1\n",
    "\n",
    "        while i < len(nums):\n",
    "            nums[i] = 0\n",
    "            i += 1\n",
    "\n",
    "\n",
    "\n",
    "nums = [0, 1, 0, 3, 12]\n",
    "zeroes(nums)\n",
    "\n",
    "print(\"Output:\", nums)"
   ]
  },
  {
   "cell_type": "raw",
   "id": "e45fd206-39f0-40ec-8869-2d84090457c5",
   "metadata": {},
   "source": []
  },
  {
   "cell_type": "markdown",
   "id": "742e036e-44eb-433f-b5ce-2d6cfc6cff0b",
   "metadata": {},
   "source": [
    "Q8"
   ]
  },
  {
   "cell_type": "code",
   "execution_count": 14,
   "id": "f3de0890-77eb-47ca-b954-6a8502efffc6",
   "metadata": {},
   "outputs": [
    {
     "name": "stdout",
     "output_type": "stream",
     "text": [
      "Output: [2, 3]\n"
     ]
    }
   ],
   "source": [
    "class Solution:\n",
    "    def findErrorNums(self, nums):\n",
    "        n = len(nums)\n",
    "        num_set = set()\n",
    "        duplicate = -1\n",
    "\n",
    "        for num in nums:\n",
    "            if num in num_set:\n",
    "                duplicate = num\n",
    "            num_set.add(num)\n",
    "\n",
    "        missing = -1\n",
    "        for i in range(1, n + 1):\n",
    "            if i not in num_set:\n",
    "                missing = i\n",
    "                break\n",
    "\n",
    "        return [duplicate, missing]\n",
    "\n",
    "# Example usage:\n",
    "nums = [1, 2, 2, 4]\n",
    "\n",
    "solution = Solution()\n",
    "result = solution.findErrorNums(nums)\n",
    "print(\"Output:\", result)"
   ]
  },
  {
   "cell_type": "raw",
   "id": "784eb836-237e-4ce0-991e-784e6c1cef43",
   "metadata": {},
   "source": []
  }
 ],
 "metadata": {
  "kernelspec": {
   "display_name": "Python 3 (ipykernel)",
   "language": "python",
   "name": "python3"
  },
  "language_info": {
   "codemirror_mode": {
    "name": "ipython",
    "version": 3
   },
   "file_extension": ".py",
   "mimetype": "text/x-python",
   "name": "python",
   "nbconvert_exporter": "python",
   "pygments_lexer": "ipython3",
   "version": "3.10.8"
  }
 },
 "nbformat": 4,
 "nbformat_minor": 5
}
