{
 "cells": [
  {
   "cell_type": "markdown",
   "id": "80f31980-9051-428c-9b83-f248653b5988",
   "metadata": {},
   "source": [
    "# Question 1\n",
    "Given a 1-indexed array of integers numbers that are already sorted in non-decreasing order, find two numbers such that they add up to a specific target number. Let these two numbers be numbers[index1] and numbers[index2] where 1 <= index1 < index2 < numbers.length.\n",
    "Return the indices of the two numbers, index1, and index2, added by one as an integer array [index1, index2] of length 2.\n",
    "The tests are generated such that there is exactly one solution. You may not use the same element twice.\n",
    "Your solution must use only constant extra space.\n",
    "\n",
    "Input: numbers = [2,7,11,15], target = 9\n",
    "Output: [1,2]\n",
    "\n",
    "Explanation: The sum of 2 and 7 is 9. Therefore, index1 = 1, index2 = 2. We return [1, 2].\n"
   ]
  },
  {
   "cell_type": "code",
   "execution_count": 2,
   "id": "946ead41-b4ac-4dd4-9fb5-274a080bac9e",
   "metadata": {},
   "outputs": [
    {
     "name": "stdout",
     "output_type": "stream",
     "text": [
      "[1, 2]\n"
     ]
    }
   ],
   "source": [
    "def twoSum(array, target):\n",
    "    left = 0\n",
    "    right = len(array) - 1\n",
    "    \n",
    "    while left < right:\n",
    "        current_sum = array[left] + array[right]\n",
    "        if current_sum == target:\n",
    "            return [left + 1, right + 1]  # Adding 1 to get the 1-indexed indices\n",
    "        elif current_sum < target:\n",
    "            left += 1\n",
    "        else:\n",
    "            right -= 1\n",
    "    \n",
    "    return []  # No solution found\n",
    "\n",
    "# Example usage\n",
    "array = [2, 7, 11, 15]\n",
    "target = 9\n",
    "indices = twoSum(array, target)\n",
    "print(indices)  # Output: [1, 2]\n"
   ]
  },
  {
   "cell_type": "raw",
   "id": "6088085d-5a3a-473c-9621-cb10246e49c9",
   "metadata": {},
   "source": []
  },
  {
   "cell_type": "markdown",
   "id": "60329a31-0aad-46a8-abf6-5c3b67e10e08",
   "metadata": {},
   "source": [
    "# Question 2\n",
    "Given an array of integer nums sorted in non-decreasing order, find the starting and ending position of a given target value.\n",
    "If the target is not found in the array, return [-1, -1].\n",
    "You must write an algorithm with O(log n) runtime complexity\n",
    "\n",
    "Input: nums = [5,7,7,8,8,10], target = 8\n",
    "Output: [3,4]\n"
   ]
  },
  {
   "cell_type": "code",
   "execution_count": 4,
   "id": "17d3d193-3e32-4cc0-9279-e4fc38449784",
   "metadata": {},
   "outputs": [
    {
     "name": "stdout",
     "output_type": "stream",
     "text": [
      "[3, 4]\n"
     ]
    }
   ],
   "source": [
    "def searchRange(nums, target):\n",
    "    # Find the leftmost position of the target\n",
    "    left = binarySearch(nums, target, True)\n",
    "    \n",
    "    # If the target is not found, return [-1, -1]\n",
    "    if left == -1:\n",
    "        return [-1, -1]\n",
    "    \n",
    "    # Find the rightmost position of the target\n",
    "    right = binarySearch(nums, target, False)\n",
    "    \n",
    "    return [left, right]\n",
    "\n",
    "def binarySearch(nums, target, isLeft):\n",
    "    low = 0\n",
    "    high = len(nums) - 1\n",
    "    position = -1\n",
    "    \n",
    "    while low <= high:\n",
    "        mid = (low + high) // 2\n",
    "        \n",
    "        if nums[mid] == target:\n",
    "            position = mid\n",
    "            if isLeft:\n",
    "                high = mid - 1  # Search for the leftmost position\n",
    "            else:\n",
    "                low = mid + 1   # Search for the rightmost position\n",
    "        elif nums[mid] < target:\n",
    "            low = mid + 1\n",
    "        else:\n",
    "            high = mid - 1\n",
    "    \n",
    "    return position\n",
    "\n",
    "# Example usage\n",
    "nums = [5, 7, 7, 8, 8, 10]\n",
    "target = 8\n",
    "result = searchRange(nums, target)\n",
    "print(result)  \n"
   ]
  },
  {
   "cell_type": "raw",
   "id": "a7f18649-b4a5-47d2-842a-d076c4b73929",
   "metadata": {},
   "source": []
  },
  {
   "cell_type": "markdown",
   "id": "30546fde-a629-4fe1-8956-de229b328a88",
   "metadata": {},
   "source": [
    "# Question 3\n",
    "A peak element is an element that is strictly greater than its neighbors.\n",
    "Given a 0-indexed integer array nums, find a peak element, and return its index. If the array contains multiple peaks, return the index to any of the peaks.\n",
    "You may imagine that nums[-1] = nums[n] = -∞. In other words, an element is always considered to be strictly greater than a neighbor that is outside the array.\n",
    "You must write an algorithm that runs in O(log n) time.\n",
    "Input: nums = [1,2,3,1]\n",
    "Output: 2\n",
    "Explanation: 3 is a peak element and your function should return the index number 2.\n"
   ]
  },
  {
   "cell_type": "code",
   "execution_count": 6,
   "id": "a2fce1b8-e5ba-4225-909e-db3ebf5329f1",
   "metadata": {},
   "outputs": [
    {
     "name": "stdout",
     "output_type": "stream",
     "text": [
      "2\n"
     ]
    }
   ],
   "source": [
    "def findPeakElement(nums):\n",
    "    left = 0\n",
    "    right = len(nums) - 1\n",
    "    \n",
    "    while left < right:\n",
    "        mid = left + (right - left) // 2\n",
    "        \n",
    "        if nums[mid] < nums[mid + 1]:\n",
    "            left = mid + 1\n",
    "        else:\n",
    "            right = mid\n",
    "    \n",
    "    return left\n",
    "\n",
    "# Example usage\n",
    "nums = [1, 2, 3, 1]\n",
    "result = findPeakElement(nums)\n",
    "print(result) \n"
   ]
  },
  {
   "cell_type": "raw",
   "id": "59ad598c-4daf-4d3f-a3ca-803d49b198f4",
   "metadata": {},
   "source": []
  },
  {
   "cell_type": "markdown",
   "id": "0cdfa9b6-1db0-4621-a9ae-235fbd4bccf4",
   "metadata": {},
   "source": [
    "# Question 4\n",
    "Given a sorted array of distinct integers and a target value, return the index if the target is found. If not, return the index where it would be if it were inserted in order.\n",
    "You must write an algorithm with O(log n) runtime complexity.\n",
    "Input: nums = [1,3,5,6], target = 5\n",
    "Output: 2\n",
    "\n",
    "Input: nums = [1,3,5,6], target = 7\n",
    "Output: 4\n"
   ]
  },
  {
   "cell_type": "code",
   "execution_count": 8,
   "id": "9ebbef66-f9e9-449f-be9c-e12b1d784a8f",
   "metadata": {},
   "outputs": [
    {
     "name": "stdout",
     "output_type": "stream",
     "text": [
      "2\n",
      "4\n"
     ]
    }
   ],
   "source": [
    "def searchInsert(nums, target):\n",
    "    left = 0\n",
    "    right = len(nums) - 1\n",
    "    \n",
    "    while left <= right:\n",
    "        mid = left + (right - left) // 2\n",
    "        \n",
    "        if nums[mid] == target:\n",
    "            return mid\n",
    "        elif nums[mid] < target:\n",
    "            left = mid + 1\n",
    "        else:\n",
    "            right = mid - 1\n",
    "    \n",
    "    return left\n",
    "\n",
    "# Example usage\n",
    "nums = [1, 3, 5, 6]\n",
    "target = 5\n",
    "result = searchInsert(nums, target)\n",
    "print(result) \n",
    "\n",
    "target = 7\n",
    "result = searchInsert(nums, target)\n",
    "print(result) \n"
   ]
  },
  {
   "cell_type": "raw",
   "id": "68d30771-fc36-4c29-b262-698d2f0b18e6",
   "metadata": {},
   "source": []
  },
  {
   "cell_type": "markdown",
   "id": "9ef89f73-b84a-4c0e-aef8-84076cf82c54",
   "metadata": {},
   "source": [
    "# Question 5\n",
    "Find the majority element in the array. A majority element in an array A[] of size n is an element that appears more than n/2 times (and hence there is at most one such element). \n",
    "\n",
    "Input: A[]={3, 3, 4, 2, 4, 4, 2, 4, 4}\n",
    "Output: 4\n",
    "\n",
    "Explanation: The frequency of 4 is 5 which is greater than half of the size of the array size. \n"
   ]
  },
  {
   "cell_type": "code",
   "execution_count": 9,
   "id": "72df4910-411e-4360-b76e-636023dbf1e9",
   "metadata": {},
   "outputs": [
    {
     "name": "stdout",
     "output_type": "stream",
     "text": [
      "4\n"
     ]
    }
   ],
   "source": [
    "def majorityElement(nums):\n",
    "    count = 0\n",
    "    candidate = None\n",
    "    \n",
    "    for num in nums:\n",
    "        if count == 0:\n",
    "            candidate = num\n",
    "        \n",
    "        if num == candidate:\n",
    "            count += 1\n",
    "        else:\n",
    "            count -= 1\n",
    "    \n",
    "    return candidate\n",
    "\n",
    "# Example usage\n",
    "nums = [3, 3, 4, 2, 4, 4, 2, 4, 4]\n",
    "result = majorityElement(nums)\n",
    "print(result) \n"
   ]
  },
  {
   "cell_type": "raw",
   "id": "23f7cbf5-c96a-4b5b-a958-ae43cc61097f",
   "metadata": {},
   "source": []
  },
  {
   "cell_type": "markdown",
   "id": "75a4d5e4-8ffd-4e6b-9c7c-359a71133924",
   "metadata": {},
   "source": [
    "# Question 6\n",
    "You are a product manager and currently leading a team to develop a new product. Unfortunately, the latest version of your product fails the quality check. Since each version is developed based on the previous version, all the versions after a bad version are also bad.\n",
    "Suppose you have n versions [1, 2, ..., n] and you want to find out the first bad one, which causes all the following ones to be bad.\n",
    "You are given an API bool isBadVersion(version) which returns whether the version is bad. Implement a function to find the first bad version. You should minimize the number of calls to the API.\n",
    "\n",
    "Input: n = 5, bad = 4\n",
    "Output: 4\n",
    "\n",
    "Explanation:\n",
    "call isBadVersion(3) -> false\n",
    "\n",
    "call isBadVersion(5) -> true\n",
    "\n",
    "call isBadVersion(4) -> true\n",
    "\n",
    "Then 4 is the first bad version.\n"
   ]
  },
  {
   "cell_type": "code",
   "execution_count": 14,
   "id": "3e173192-e5a3-4284-b3fc-6a696e41ec2a",
   "metadata": {},
   "outputs": [
    {
     "name": "stdout",
     "output_type": "stream",
     "text": [
      "4\n"
     ]
    }
   ],
   "source": [
    "def firstBadVersion(n):\n",
    "    left = 1\n",
    "    right = n\n",
    "    \n",
    "    while left < right:\n",
    "        mid = left + (right - left) // 2\n",
    "        \n",
    "        if isBadVersion(mid):\n",
    "            right = mid\n",
    "        else:\n",
    "            left = mid + 1\n",
    "    \n",
    "    return left\n",
    "\n",
    "\n",
    "def isBadVersion(version):\n",
    "   \n",
    "    if version >= 4:\n",
    "        return True\n",
    "    else:\n",
    "        return False\n",
    "\n",
    "n = 5\n",
    "result = firstBadVersion(n)\n",
    "print(result)  # Output: 4\n"
   ]
  },
  {
   "cell_type": "raw",
   "id": "2f292d05-ecb3-44b7-b575-188b10212cda",
   "metadata": {},
   "source": []
  },
  {
   "cell_type": "markdown",
   "id": "1369bd55-48a0-4450-b182-9f573b3e5e7c",
   "metadata": {},
   "source": [
    "# Question 7\n",
    "Given an array of integers, find the inversion of an array. Formally, two elements a[i] and a[j] form an inversion if a[i] > a[j] and i < j.\n",
    "\n",
    "N=5, \n",
    "\n",
    "arr[] = {2, 4, 1, 3, 5}\n",
    "\n",
    "Output: 3\n",
    "\n",
    "Explanation: (2,1) (4,1) and (4,3) forms an inversion in an array\n"
   ]
  },
  {
   "cell_type": "code",
   "execution_count": 15,
   "id": "58e942fa-bb94-4ca8-a23b-cc744b1a2a30",
   "metadata": {},
   "outputs": [
    {
     "name": "stdout",
     "output_type": "stream",
     "text": [
      "Total inversion :  3\n"
     ]
    }
   ],
   "source": [
    "def countInversions(arr):\n",
    "    if len(arr) <= 1:\n",
    "        return 0\n",
    "    \n",
    "    mid = len(arr) // 2\n",
    "    \n",
    "    left = arr[:mid]\n",
    "    right = arr[mid:]\n",
    "    \n",
    "    inversions = countInversions(left) + countInversions(right)\n",
    "    \n",
    "    i = j = k = 0\n",
    "    \n",
    "    while i < len(left) and j < len(right):\n",
    "        if left[i] <= right[j]:\n",
    "            arr[k] = left[i]\n",
    "            i += 1\n",
    "        else:\n",
    "            arr[k] = right[j]\n",
    "            j += 1\n",
    "            inversions += len(left) - i\n",
    "        \n",
    "        k += 1\n",
    "    \n",
    "    while i < len(left):\n",
    "        arr[k] = left[i]\n",
    "        i += 1\n",
    "        k += 1\n",
    "    \n",
    "    while j < len(right):\n",
    "        arr[k] = right[j]\n",
    "        j += 1\n",
    "        k += 1\n",
    "    \n",
    "    return inversions\n",
    "\n",
    "# Example usage\n",
    "arr = [2, 4, 1, 3, 5]\n",
    "result = countInversions(arr)\n",
    "print(\"Total inversion : \",result) \n"
   ]
  },
  {
   "cell_type": "raw",
   "id": "8d99da9b-d564-43fd-9484-b1b02c385fe0",
   "metadata": {},
   "source": []
  },
  {
   "cell_type": "markdown",
   "id": "5a7c06b8-aafa-45fe-993a-043fe44f7ae1",
   "metadata": {},
   "source": [
    "# Question 8\n",
    "Given three arrays sorted in non-decreasing order, print all common elements in these arrays.\n",
    "\n",
    "ar1[] = {1, 5, 10, 20, 40, 80} \n",
    "\n",
    "ar2[] = {6, 7, 20, 80, 100} \n",
    "\n",
    "ar3[] = {3, 4, 15, 20, 30, 70, 80, 120} \n",
    "\n",
    "Output: 20, 80\n"
   ]
  },
  {
   "cell_type": "code",
   "execution_count": 16,
   "id": "03b08560-acb4-4b2a-9a7d-7d451cd4ecdc",
   "metadata": {},
   "outputs": [
    {
     "name": "stdout",
     "output_type": "stream",
     "text": [
      "20 80\n"
     ]
    }
   ],
   "source": [
    "def findCommonElements(arr1, arr2, arr3):\n",
    "    i = j = k = 0\n",
    "    common_elements = []\n",
    "    \n",
    "    while i < len(arr1) and j < len(arr2) and k < len(arr3):\n",
    "        if arr1[i] == arr2[j] == arr3[k]:\n",
    "            common_elements.append(arr1[i])\n",
    "            i += 1\n",
    "            j += 1\n",
    "            k += 1\n",
    "        elif arr1[i] < arr2[j]:\n",
    "            i += 1\n",
    "        elif arr2[j] < arr3[k]:\n",
    "            j += 1\n",
    "        else:\n",
    "            k += 1\n",
    "    \n",
    "    return common_elements\n",
    "\n",
    "# Example usage\n",
    "arr1 = [1, 5, 10, 20, 40, 80]\n",
    "arr2 = [6, 7, 20, 80, 100]\n",
    "arr3 = [3, 4, 15, 20, 30, 70, 80, 120]\n",
    "\n",
    "result = findCommonElements(arr1, arr2, arr3)\n",
    "print(*result)  # Output: 20 80\n"
   ]
  },
  {
   "cell_type": "raw",
   "id": "d3b06577-957e-405c-aee8-0ef18ac79745",
   "metadata": {},
   "source": []
  }
 ],
 "metadata": {
  "kernelspec": {
   "display_name": "Python 3 (ipykernel)",
   "language": "python",
   "name": "python3"
  },
  "language_info": {
   "codemirror_mode": {
    "name": "ipython",
    "version": 3
   },
   "file_extension": ".py",
   "mimetype": "text/x-python",
   "name": "python",
   "nbconvert_exporter": "python",
   "pygments_lexer": "ipython3",
   "version": "3.10.8"
  }
 },
 "nbformat": 4,
 "nbformat_minor": 5
}
