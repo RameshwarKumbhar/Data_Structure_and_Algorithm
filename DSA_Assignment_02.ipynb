{
 "cells": [
  {
   "cell_type": "markdown",
   "id": "c26199b6-c680-412b-a80a-3076e38700f4",
   "metadata": {},
   "source": [
    "Question 1"
   ]
  },
  {
   "cell_type": "markdown",
   "id": "2bdd1f2b-5e14-4550-b19b-32704ebe6e09",
   "metadata": {},
   "source": [
    "Given an integer array nums of 2n integers, group these integers into n pairs (a1, b1), (a2, b2),..., (an, bn) such that the sum of min(ai, bi) for all i is maximized. Return the maximized sum.\n",
    "\n",
    "Example 1: Input: nums = [1,4,3,2] Output: 4\n",
    "\n",
    "Explanation: All possible pairings (ignoring the ordering of elements) are:\n",
    "\n",
    "(1, 4), (2, 3) -> min(1, 4) + min(2, 3) = 1 + 2 = 3\n",
    "(1, 3), (2, 4) -> min(1, 3) + min(2, 4) = 1 + 2 = 3\n",
    "(1, 2), (3, 4) -> min(1, 2) + min(3, 4) = 1 + 3 = 4\n",
    "So the maximum possible sum is 4"
   ]
  },
  {
   "cell_type": "code",
   "execution_count": 1,
   "id": "888d1b5d-411b-4d09-b52e-4d8f1a727c26",
   "metadata": {},
   "outputs": [
    {
     "name": "stdout",
     "output_type": "stream",
     "text": [
      "4\n"
     ]
    }
   ],
   "source": [
    "def arrayPairSum(nums):\n",
    "    nums.sort()  \n",
    "    max_sum = 0\n",
    "    for i in range(0, len(nums), 2):\n",
    "        max_sum += nums[i]\n",
    "    return max_sum\n",
    "nums = [1, 4, 3, 2]\n",
    "print(arrayPairSum(nums))"
   ]
  },
  {
   "cell_type": "raw",
   "id": "ae0c023b-db4f-45c2-a292-e85b8691c21f",
   "metadata": {},
   "source": []
  },
  {
   "cell_type": "markdown",
   "id": "e85ca11d-c54f-4de7-8532-7851c2e69180",
   "metadata": {},
   "source": [
    "Question 2"
   ]
  },
  {
   "cell_type": "markdown",
   "id": "ba9aed68-01b7-41a5-9d29-9934df668947",
   "metadata": {},
   "source": [
    "Alice has n candies, where the ith candy is of type candyType[i]. Alice noticed that she started to gain weight, so she visited a doctor.\n",
    "\n",
    "The doctor advised Alice to only eat n / 2 of the candies she has (n is always even). Alice likes her candies very much, and she wants to eat the maximum number of different types of candies while still following the doctor's advice.\n",
    "\n",
    "Given the integer array candyType of length n, return the maximum number of different types of candies she can eat if she only eats n / 2 of them.\n",
    "\n",
    "Example 1: Input: candyType = [1,1,2,2,3,3] Output: 3\n",
    "\n",
    "Explanation: Alice can only eat 6 / 2 = 3 candies. Since there are only 3 types, she can eat one of each type."
   ]
  },
  {
   "cell_type": "code",
   "execution_count": 5,
   "id": "f2421204-f0c8-4670-9f76-86205bb44db8",
   "metadata": {},
   "outputs": [
    {
     "name": "stdout",
     "output_type": "stream",
     "text": [
      "3\n"
     ]
    }
   ],
   "source": [
    "def maxChocolates(chocoType):\n",
    "    unique_choco = set()\n",
    "    for choco in chocoType:\n",
    "        unique_choco.add(choco)\n",
    "    return min(len(unique_choco), len(chocoType) // 2)\n",
    "\n",
    "chocoType = [1, 1, 2, 2, 3, 3]\n",
    "print(maxChocolates(chocoType))"
   ]
  },
  {
   "cell_type": "raw",
   "id": "874a35b0-5bb0-4462-8d8c-355b9c228c87",
   "metadata": {},
   "source": []
  },
  {
   "cell_type": "markdown",
   "id": "479b63a7-a78f-4fe3-8e8d-a77250a01f10",
   "metadata": {},
   "source": [
    "Question 3"
   ]
  },
  {
   "cell_type": "markdown",
   "id": "70775c6d-d157-4301-a74f-f011442476fa",
   "metadata": {},
   "source": [
    "We define a harmonious array as an array where the difference between its maximum value and its minimum value is exactly 1.\n",
    "\n",
    "Given an integer array nums, return the length of its longest harmonious subsequence among all its possible subsequences.\n",
    "\n",
    "A subsequence of an array is a sequence that can be derived from the array by deleting some or no elements without changing the order of the remaining elements.\n",
    "\n",
    "Example 1: Input: nums = [1,3,2,2,5,2,3,7] Output: 5\n",
    "\n",
    "Explanation: The longest harmonious subsequence is [3,2,2,2,3]."
   ]
  },
  {
   "cell_type": "code",
   "execution_count": 6,
   "id": "e06fc7ed-99f5-4f30-9295-a7575999ec7d",
   "metadata": {},
   "outputs": [
    {
     "name": "stdout",
     "output_type": "stream",
     "text": [
      "5\n"
     ]
    }
   ],
   "source": [
    "def findLHS(nums):\n",
    "    count = {}\n",
    "    for num in nums:\n",
    "        if num not in count:\n",
    "            count[num] = 1\n",
    "        else:\n",
    "            count[num] += 1\n",
    "\n",
    "    max_length = 0\n",
    "    for num in nums:\n",
    "        if num + 1 in count:\n",
    "            max_length = max(max_length, count[num] + count[num + 1])\n",
    "\n",
    "    return max_length\n",
    "\n",
    "nums = [1, 3, 2, 2, 5, 2, 3, 7]\n",
    "print(findLHS(nums))"
   ]
  },
  {
   "cell_type": "raw",
   "id": "2651c1e4-3f73-410d-9619-6917acd6219e",
   "metadata": {},
   "source": []
  },
  {
   "cell_type": "markdown",
   "id": "122ec97c-3e2d-4777-a9de-412ee0edf90e",
   "metadata": {},
   "source": [
    "Question 4"
   ]
  },
  {
   "cell_type": "markdown",
   "id": "bf7df5bc-bf8a-44bf-ae38-575333e4cd3a",
   "metadata": {},
   "source": [
    "You have a long flowerbed in which some of the plots are planted, and some are not. However, flowers cannot be planted in adjacent plots. Given an integer array flowerbed containing 0's and 1's, where 0 means empty and 1 means not empty, and an integer n, return true if n new flowers can be planted in the flowerbed without violating the no-adjacent-flowers rule and false otherwise.\n",
    "\n",
    "Example 1: Input: flowerbed = [1,0,0,0,1], n = 1 Output: true"
   ]
  },
  {
   "cell_type": "code",
   "execution_count": 7,
   "id": "e7bbf10f-da27-4729-9dc7-09003d805e4c",
   "metadata": {},
   "outputs": [
    {
     "name": "stdout",
     "output_type": "stream",
     "text": [
      "True\n"
     ]
    }
   ],
   "source": [
    "def canPlaceFlowers(flowerbed, n):\n",
    "    count = 0\n",
    "    length = len(flowerbed)\n",
    "\n",
    "    for i in range(length):\n",
    "        if flowerbed[i] == 0 and (i == 0 or flowerbed[i - 1] == 0) and (i == length - 1 or flowerbed[i + 1] == 0):\n",
    "            flowerbed[i] = 1\n",
    "            count += 1\n",
    "\n",
    "    return count >= n\n",
    "flowerbed = [1, 0, 0, 0, 1]\n",
    "n = 1\n",
    "print(canPlaceFlowers(flowerbed, n))"
   ]
  },
  {
   "cell_type": "raw",
   "id": "7dfe17a3-6c3f-43b5-a7b8-61c4c225e34f",
   "metadata": {},
   "source": []
  },
  {
   "cell_type": "markdown",
   "id": "740ea9ae-f08b-4d4e-be6d-49a040521f78",
   "metadata": {},
   "source": [
    "Question 5"
   ]
  },
  {
   "cell_type": "markdown",
   "id": "34126af2-ec3d-4361-994f-336e1a350b6b",
   "metadata": {},
   "source": [
    "Given an integer array nums, find three numbers whose product is maximum and return the maximum product.\n",
    "\n",
    "Example 1: Input: nums = [1,2,3] Output: 6"
   ]
  },
  {
   "cell_type": "code",
   "execution_count": 8,
   "id": "29663b14-b868-4f72-9b0f-f72d0a8447e0",
   "metadata": {},
   "outputs": [
    {
     "name": "stdout",
     "output_type": "stream",
     "text": [
      "6\n"
     ]
    }
   ],
   "source": [
    "def maxProduct(nums):\n",
    "    nums.sort()\n",
    "    max_product = nums[-1] * nums[-2] * nums[-3]\n",
    "\n",
    "    if nums[0] < 0 and nums[1] < 0:\n",
    "        alt_product = nums[0] * nums[1] * nums[-1]\n",
    "        return max(max_product, alt_product)\n",
    "\n",
    "    return max_product\n",
    "nums = [1, 2, 3]\n",
    "print(maxProduct(nums))"
   ]
  },
  {
   "cell_type": "raw",
   "id": "4d7e17f7-b01d-41a2-b06c-3470ae66a084",
   "metadata": {},
   "source": []
  },
  {
   "cell_type": "markdown",
   "id": "2b809486-b5be-4e32-87ee-518a1dfde972",
   "metadata": {},
   "source": [
    "Question 6"
   ]
  },
  {
   "cell_type": "markdown",
   "id": "093bd4c2-64d3-4600-8608-ec118c6ab0b7",
   "metadata": {},
   "source": [
    "Given an array of integers nums which is sorted in ascending order, and an integer target, write a function to search target in nums. If target exists, then return its index. Otherwise, return -1.\n",
    "\n",
    "You must write an algorithm with O(log n) runtime complexity.\n",
    "\n",
    "Input: nums = [-1,0,3,5,9,12], target = 9\n",
    "\n",
    "Output: 4\n",
    "\n",
    "Explanation: 9 exists in nums and its index is 4"
   ]
  },
  {
   "cell_type": "code",
   "execution_count": 9,
   "id": "240433a9-bee7-490d-9529-0b081b375b43",
   "metadata": {},
   "outputs": [
    {
     "name": "stdout",
     "output_type": "stream",
     "text": [
      "4\n"
     ]
    }
   ],
   "source": [
    "def search(nums, target):\n",
    "    left = 0\n",
    "    right = len(nums) - 1\n",
    "\n",
    "    while left <= right:\n",
    "        mid = (left + right) // 2\n",
    "        if nums[mid] == target:\n",
    "            return mid\n",
    "        elif nums[mid] < target:\n",
    "            left = mid + 1\n",
    "        else:\n",
    "            right = mid - 1\n",
    "\n",
    "    return -1\n",
    "nums = [-1, 0, 3, 5, 9, 12]\n",
    "target = 9\n",
    "print(search(nums, target))"
   ]
  },
  {
   "cell_type": "raw",
   "id": "5c958f62-189b-4c6e-bc4d-668efdc16953",
   "metadata": {},
   "source": []
  },
  {
   "cell_type": "markdown",
   "id": "060cd6ad-49c5-4c13-8df8-c03b7e7dbeb1",
   "metadata": {},
   "source": [
    "Question 7"
   ]
  },
  {
   "cell_type": "markdown",
   "id": "bae5d096-68eb-47d0-8ae8-72bf31100fc6",
   "metadata": {},
   "source": [
    "An array is monotonic if it is either monotone increasing or monotone decreasing.\n",
    "\n",
    "An array nums is monotone increasing if for all i <= j, nums[i] <= nums[j]. An array nums is monotone decreasing if for all i <= j, nums[i] >= nums[j].\n",
    "\n",
    "Given an integer array nums, return true if the given array is monotonic, or false otherwise.\n",
    "\n",
    "Example 1: Input: nums = [1,2,2,3]\n",
    "\n",
    "Output: true"
   ]
  },
  {
   "cell_type": "code",
   "execution_count": 10,
   "id": "76154ae9-b15e-4d05-b82e-ce37513fdf9b",
   "metadata": {},
   "outputs": [
    {
     "name": "stdout",
     "output_type": "stream",
     "text": [
      "True\n"
     ]
    }
   ],
   "source": [
    "def isMonotonic(nums):\n",
    "    isIncre = True\n",
    "    isDecre = True\n",
    "\n",
    "    for i in range(1, len(nums)):\n",
    "        if nums[i] < nums[i-1]:\n",
    "            isIncre = False\n",
    "        if nums[i] > nums[i-1]:\n",
    "            isDecre = False\n",
    "\n",
    "    return isIncre or isDecre\n",
    "\n",
    "nums = [1, 2, 2, 3]\n",
    "print(isMonotonic(nums))"
   ]
  },
  {
   "cell_type": "raw",
   "id": "9e7d4bd4-62b6-412f-a3ca-0ee3b08b2de9",
   "metadata": {},
   "source": []
  },
  {
   "cell_type": "markdown",
   "id": "14badc11-765b-4dcd-b04d-f43b58b38329",
   "metadata": {},
   "source": [
    "Question 8"
   ]
  },
  {
   "cell_type": "markdown",
   "id": "70c81bdc-5336-48ef-abbc-3ee490b91377",
   "metadata": {},
   "source": [
    " You are given an integer array nums and an integer k.\n",
    "\n",
    "In one operation, you can choose any index i where 0 <= i < nums.length and change nums[i] to nums[i] + x where x is an integer from the range [-k, k]. You can apply this operation at most once for each index i.\n",
    "\n",
    "The score of nums is the difference between the maximum and minimum elements in nums.\n",
    "\n",
    "Return the minimum score of nums after applying the mentioned operation at most once for each index in it.\n",
    "\n",
    "Example 1: Input: nums = [1], k = 0\n",
    "\n",
    "Output: 0\n",
    "\n",
    "Explanation: The score is max(nums) - min(nums) = 1 - 1 = 0."
   ]
  },
  {
   "cell_type": "code",
   "execution_count": 11,
   "id": "4d41d476-6bd3-44d0-99d4-63fbf78476a8",
   "metadata": {},
   "outputs": [
    {
     "name": "stdout",
     "output_type": "stream",
     "text": [
      "0\n"
     ]
    }
   ],
   "source": [
    "def minimumScore(nums, k):\n",
    "    maximum = max(nums)\n",
    "    minimum = min(nums)\n",
    "    \n",
    "    if maximum - minimum <= 2 * k:\n",
    "        return 0\n",
    "    \n",
    "    return maximum - minimum - 2 * k\n",
    "\n",
    "# Example usage\n",
    "nums = [1]\n",
    "k = 0\n",
    "print(minimumScore(nums, k))"
   ]
  },
  {
   "cell_type": "raw",
   "id": "96aebba8-15c9-40e3-a9ca-8322ef060153",
   "metadata": {},
   "source": []
  }
 ],
 "metadata": {
  "kernelspec": {
   "display_name": "Python 3 (ipykernel)",
   "language": "python",
   "name": "python3"
  },
  "language_info": {
   "codemirror_mode": {
    "name": "ipython",
    "version": 3
   },
   "file_extension": ".py",
   "mimetype": "text/x-python",
   "name": "python",
   "nbconvert_exporter": "python",
   "pygments_lexer": "ipython3",
   "version": "3.10.8"
  }
 },
 "nbformat": 4,
 "nbformat_minor": 5
}
